{
 "cells": [
  {
   "cell_type": "code",
   "execution_count": 14,
   "metadata": {},
   "outputs": [],
   "source": [
    "# import any libraries we will use for this classification problem\n",
    "%matplotlib inline\n",
    "import numpy as np\n",
    "import pandas as pd\n",
    "from sklearn.model_selection import train_test_split\n",
    "from sklearn.svm import SVC\n",
    "from sklearn.metrics import classification_report, confusion_matrix\n",
    "from sklearn.neighbors import KNeighborsClassifier\n",
    "from sklearn.model_selection import GridSearchCV\n",
    "from sklearn.model_selection import cross_val_score"
   ]
  },
  {
   "cell_type": "code",
   "execution_count": 2,
   "metadata": {},
   "outputs": [],
   "source": [
    "# Clean the data of any weird or unneccessary categories\n",
    "cleaned_data = pd.read_csv('Data/CleanSpotifyData.csv')"
   ]
  },
  {
   "cell_type": "code",
   "execution_count": 3,
   "metadata": {},
   "outputs": [
    {
     "name": "stderr",
     "output_type": "stream",
     "text": [
      "C:\\Users\\ejozy\\Anaconda3\\lib\\site-packages\\pandas\\core\\frame.py:4263: SettingWithCopyWarning: \n",
      "A value is trying to be set on a copy of a slice from a DataFrame\n",
      "\n",
      "See the caveats in the documentation: http://pandas.pydata.org/pandas-docs/stable/user_guide/indexing.html#returning-a-view-versus-a-copy\n",
      "  method=method,\n"
     ]
    }
   ],
   "source": [
    "# Get all genres to compare\n",
    "\n",
    "rap_classical = cleaned_data.loc[cleaned_data['genre'].isin(['Rap', 'Classical'])]\n",
    "rap_classical.replace(to_replace=['Rap', 'Classical'], value=[0,1], inplace=True)\n",
    "\n",
    "\n",
    "electronic_jazz = cleaned_data.loc[cleaned_data['genre'].isin(['Electronic', 'Jazz'])]\n",
    "electronic_jazz.replace(to_replace=['Electronic', 'Jazz'], value=[0,1], inplace=True)"
   ]
  },
  {
   "cell_type": "code",
   "execution_count": 4,
   "metadata": {},
   "outputs": [],
   "source": [
    "# Rap Classical train and test data\n",
    "X_rc = rap_classical.drop('genre', axis=1)\n",
    "y_rc = rap_classical['genre']\n",
    "\n",
    "# Get trian and test sets 80% train 20% test\n",
    "X_train_rc, X_test_rc, y_train_rc, y_test_rc= train_test_split(X_rc, y_rc, test_size = 0.20)"
   ]
  },
  {
   "cell_type": "code",
   "execution_count": 5,
   "metadata": {},
   "outputs": [],
   "source": [
    "# Electronic Jazz train test data\n",
    "X_ej = electronic_jazz.drop('genre', axis=1)\n",
    "y_ej = electronic_jazz['genre']\n",
    "\n",
    "# Get trian and test sets 80% train 20% test\n",
    "X_train_ej, X_test_ej, y_train_ej, y_test_ej = train_test_split(X_ej, y_ej, test_size = 0.20)\n"
   ]
  },
  {
   "cell_type": "markdown",
   "metadata": {},
   "source": [
    "### SVC on diffirent sets of genres"
   ]
  },
  {
   "cell_type": "markdown",
   "metadata": {},
   "source": [
    "#### Rap vs Classical"
   ]
  },
  {
   "cell_type": "code",
   "execution_count": 6,
   "metadata": {},
   "outputs": [
    {
     "name": "stdout",
     "output_type": "stream",
     "text": [
      "[[1840   25]\n",
      " [  74 1759]]\n",
      "              precision    recall  f1-score   support\n",
      "\n",
      "           0       0.96      0.99      0.97      1865\n",
      "           1       0.99      0.96      0.97      1833\n",
      "\n",
      "    accuracy                           0.97      3698\n",
      "   macro avg       0.97      0.97      0.97      3698\n",
      "weighted avg       0.97      0.97      0.97      3698\n",
      "\n"
     ]
    }
   ],
   "source": [
    "# Train classifier\n",
    "svclassifier_rc = SVC(kernel='linear')\n",
    "svclassifier_rc.fit(X_train_rc, y_train_rc)\n",
    "\n",
    "# Make predictions on test set\n",
    "y_pred_rc = svclassifier_rc.predict(X_test_rc)\n",
    "\n",
    "\n",
    "print(confusion_matrix(y_test_rc,y_pred_rc))\n",
    "print(classification_report(y_test_rc,y_pred_rc))"
   ]
  },
  {
   "cell_type": "markdown",
   "metadata": {},
   "source": [
    "#### Electronic vs Jazz"
   ]
  },
  {
   "cell_type": "code",
   "execution_count": 8,
   "metadata": {},
   "outputs": [
    {
     "name": "stdout",
     "output_type": "stream",
     "text": [
      "[[1297  556]\n",
      " [ 607 1304]]\n",
      "              precision    recall  f1-score   support\n",
      "\n",
      "           0       0.68      0.70      0.69      1853\n",
      "           1       0.70      0.68      0.69      1911\n",
      "\n",
      "    accuracy                           0.69      3764\n",
      "   macro avg       0.69      0.69      0.69      3764\n",
      "weighted avg       0.69      0.69      0.69      3764\n",
      "\n"
     ]
    }
   ],
   "source": [
    "# Train classifier\n",
    "svclassifier_ej = SVC(kernel='linear')\n",
    "svclassifier_ej.fit(X_train_ej, y_train_ej)\n",
    "\n",
    "# Make predictions on test set\n",
    "y_pred_ej = svclassifier_ej.predict(X_test_ej)\n",
    "\n",
    "\n",
    "print(confusion_matrix(y_test_ej,y_pred_ej))\n",
    "print(classification_report(y_test_ej,y_pred_ej))"
   ]
  },
  {
   "cell_type": "markdown",
   "metadata": {},
   "source": [
    "### KNN on diffirent sets of genres"
   ]
  },
  {
   "cell_type": "markdown",
   "metadata": {},
   "source": [
    "#### Rap vs Classical"
   ]
  },
  {
   "cell_type": "code",
   "execution_count": 20,
   "metadata": {},
   "outputs": [
    {
     "name": "stdout",
     "output_type": "stream",
     "text": [
      "[0.76561233 0.74526771 0.72680552 0.74005951 0.71760887]\n",
      "cv_scores_rc mean: 0.7390707875375931\n",
      "{'n_neighbors': 1}\n",
      "0.7710947641713544\n"
     ]
    }
   ],
   "source": [
    "knn_rc = KNeighborsClassifier(n_neighbors = 3)\n",
    "\n",
    "knn_rc.fit(X_train_rc,y_train_rc)\n",
    "\n",
    "knn_rc.predict(X_test_rc)\n",
    "\n",
    "knn_rc.score(X_test_rc, y_test_rc)\n",
    "\n",
    "# CV Score\n",
    "cv_scores_rc = cross_val_score(knn_rc, X_rc, y_rc, cv=5)\n",
    "print(cv_scores_rc)\n",
    "print(\"cv_scores_rc mean: {}\".format(np.mean(cv_scores_rc)))\n",
    "\n",
    "# Grid Search\n",
    "knn2_rc = KNeighborsClassifier()\n",
    "\n",
    "param_grid_rc = {\"n_neighbors\": np.arange(1, 25)}\n",
    "\n",
    "knn_gscv_rc = GridSearchCV(knn2_rc, param_grid_rc, cv=5)\n",
    "\n",
    "knn_gscv_rc.fit(X_rc, y_rc)\n",
    "\n",
    "print(knn_gscv_rc.best_params_)\n",
    "\n",
    "print(knn_gscv_rc.best_score_)"
   ]
  },
  {
   "cell_type": "markdown",
   "metadata": {},
   "source": [
    "#### Electronic vs Jazz"
   ]
  },
  {
   "cell_type": "code",
   "execution_count": 21,
   "metadata": {},
   "outputs": [
    {
     "name": "stdout",
     "output_type": "stream",
     "text": [
      "[0.58804781 0.56827843 0.55487643 0.55461068 0.54424661]\n",
      "cv_scores_ej mean: 0.5620119918126636\n",
      "{'n_neighbors': 3}\n",
      "0.5620150919332554\n"
     ]
    }
   ],
   "source": [
    "knn_ej = KNeighborsClassifier(n_neighbors = 3)\n",
    "\n",
    "knn_ej.fit(X_train_ej,y_train_ej)\n",
    "\n",
    "knn_ej.predict(X_test_ej)\n",
    "\n",
    "knn_ej.score(X_test_ej, y_test_ej)\n",
    "\n",
    "# CV Score\n",
    "cv_scores_ej = cross_val_score(knn_ej, X_ej, y_ej, cv=5)\n",
    "print(cv_scores_ej)\n",
    "print(\"cv_scores_ej mean: {}\".format(np.mean(cv_scores_ej)))\n",
    "\n",
    "# Grid Search\n",
    "knn2_ej = KNeighborsClassifier()\n",
    "\n",
    "param_grid_ej = {\"n_neighbors\": np.arange(1, 25)}\n",
    "\n",
    "knn_gscv_ej = GridSearchCV(knn2_ej, param_grid_ej, cv=5)\n",
    "\n",
    "knn_gscv_ej.fit(X_ej, y_ej)\n",
    "\n",
    "print(knn_gscv_ej.best_params_)\n",
    "\n",
    "print(knn_gscv_ej.best_score_)"
   ]
  },
  {
   "cell_type": "code",
   "execution_count": null,
   "metadata": {},
   "outputs": [],
   "source": []
  }
 ],
 "metadata": {
  "kernelspec": {
   "display_name": "Python 3",
   "language": "python",
   "name": "python3"
  },
  "language_info": {
   "codemirror_mode": {
    "name": "ipython",
    "version": 3
   },
   "file_extension": ".py",
   "mimetype": "text/x-python",
   "name": "python",
   "nbconvert_exporter": "python",
   "pygments_lexer": "ipython3",
   "version": "3.7.4"
  }
 },
 "nbformat": 4,
 "nbformat_minor": 2
}
