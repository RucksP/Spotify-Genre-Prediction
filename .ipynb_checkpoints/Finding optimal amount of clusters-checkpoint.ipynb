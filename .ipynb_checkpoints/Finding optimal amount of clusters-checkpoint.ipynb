{
 "cells": [
  {
   "cell_type": "code",
   "execution_count": 36,
   "metadata": {},
   "outputs": [],
   "source": [
    "import pandas as pd\n",
    "from sklearn.cluster import KMeans\n",
    "import matplotlib.pyplot as plt\n",
    "import seaborn as sns; sns.set()  # for plot styling\n",
    "from sklearn import metrics \n",
    "from scipy.spatial.distance import cdist \n",
    "from scipy import stats\n",
    "from sklearn.ensemble import RandomForestClassifier\n",
    "import numpy as np\n",
    "from sklearn.model_selection import GridSearchCV\n",
    "from sklearn import preprocessing\n",
    "from sklearn import tree"
   ]
  },
  {
   "cell_type": "code",
   "execution_count": 3,
   "metadata": {
    "collapsed": true
   },
   "outputs": [],
   "source": [
    "#We should try to run this again but with categorical data taken out\n",
    "data = pd.read_csv('Data/CleanSpotifyData.csv')"
   ]
  },
  {
   "cell_type": "code",
   "execution_count": 5,
   "metadata": {
    "collapsed": true
   },
   "outputs": [],
   "source": [
    "# Normalize the Data for training\n",
    "columns = list(data.columns)\n",
    "#remove the genre label from the data we will run k-means on\n",
    "columns.remove('genre')\n",
    "normalized_data = stats.zscore(data[columns])"
   ]
  },
  {
   "cell_type": "code",
   "execution_count": 14,
   "metadata": {},
   "outputs": [
    {
     "name": "stdout",
     "output_type": "stream",
     "text": [
      "1\n",
      "2\n",
      "3\n",
      "4\n",
      "5\n",
      "6\n",
      "7\n",
      "8\n",
      "9\n",
      "10\n",
      "11\n",
      "12\n",
      "13\n",
      "14\n",
      "15\n",
      "16\n",
      "17\n",
      "18\n",
      "19\n",
      "20\n",
      "21\n",
      "22\n",
      "23\n",
      "24\n"
     ]
    }
   ],
   "source": [
    "inertias = []\n",
    "mapping = {}\n",
    "K = range(1, 25)\n",
    "\n",
    "for k in K:   \n",
    "    \n",
    "    kMeans =  KMeans(n_clusters=k).fit(normalized_data)\n",
    "    kMeans.fit(normalized_data)\n",
    "              \n",
    "    inertias.append(kMeans.inertia_)\n",
    "    \n",
    "    mapping[k] = kMeans.inertia_ \n",
    "    \n",
    "    print(k)"
   ]
  },
  {
   "cell_type": "code",
   "execution_count": 16,
   "metadata": {},
   "outputs": [
    {
     "data": {
      "image/png": "[encoded data removed]",
      "text/plain": [
       "<matplotlib.figure.Figure at 0x1c25ffff6a0>"
      ]
     },
     "metadata": {},
     "output_type": "display_data"
    }
   ],
   "source": [
    "\n",
    "plt.plot(K, inertias, 'bx-') \n",
    "plt.xlabel('Values of K') \n",
    "plt.ylabel('Distance from closest mean') \n",
    "plt.title('The Elbow Method using Distance from closest Mean') \n",
    "plt.show() \n"
   ]
  },
  {
   "cell_type": "code",
   "execution_count": 18,
   "metadata": {
    "scrolled": true
   },
   "outputs": [
    {
     "name": "stdout",
     "output_type": "stream",
     "text": [
      "1 : 3258149.999999999\n",
      "2 : 2620192.0931501873\n",
      "3 : 2320996.5483323573\n",
      "4 : 2141484.811332431\n",
      "5 : 2024547.4015091835\n",
      "6 : 1935165.956596812\n",
      "7 : 1859762.1957957156\n",
      "8 : 1801283.4055985291\n",
      "9 : 1745389.598872076\n",
      "10 : 1695109.7887662728\n",
      "11 : 1635758.4072870328\n",
      "12 : 1577081.2810910868\n",
      "13 : 1553959.8368336367\n",
      "14 : 1490987.4529043683\n",
      "15 : 1457566.7723796074\n",
      "16 : 1426516.478426848\n",
      "17 : 1404195.1181409685\n",
      "18 : 1385202.4054276685\n",
      "19 : 1367042.160339952\n",
      "20 : 1342208.0419237802\n",
      "21 : 1325702.4044028649\n",
      "22 : 1306062.8133229543\n",
      "23 : 1290388.307198656\n",
      "24 : 1277399.8750165566\n"
     ]
    }
   ],
   "source": [
    "#from this we choose k = 8\n",
    "for key,val in mapping.items(): \n",
    "    print(str(key)+' : '+str(val)) \n"
   ]
  },
  {
   "cell_type": "code",
   "execution_count": 6,
   "metadata": {},
   "outputs": [],
   "source": [
    "kmeans = KMeans(n_clusters=8, random_state=0).fit(normalized_data)\n",
    "labels = kmeans.labels_\n",
    "\n",
    "data['cluster'] = labels\n",
    "columns.extend(['cluster'])"
   ]
  },
  {
   "cell_type": "code",
   "execution_count": 7,
   "metadata": {},
   "outputs": [
    {
     "data": {
      "image/png": "[encoded data removed]",
      "text/plain": [
       "<matplotlib.figure.Figure at 0x244541fcef0>"
      ]
     },
     "metadata": {},
     "output_type": "display_data"
    }
   ],
   "source": [
    "data['cluster'].hist()\n",
    "plt.show()"
   ]
  },
  {
   "cell_type": "code",
   "execution_count": 61,
   "metadata": {},
   "outputs": [
    {
     "data": {
      "text/plain": [
       "Hip-Hop             4101\n",
       "Rap                 4026\n",
       "Pop                 3975\n",
       "Dance               3645\n",
       "Rock                3599\n",
       "Country             3586\n",
       "Reggae              3564\n",
       "Reggaeton           3306\n",
       "R&B                 2887\n",
       "Indie               2885\n",
       "Children’s Music    2813\n",
       "Alternative         2615\n",
       "Soul                2540\n",
       "Folk                2323\n",
       "Ska                 2315\n",
       "Blues               2030\n",
       "Electronic          1478\n",
       "Jazz                1139\n",
       "Anime               1008\n",
       "Children's Music     999\n",
       "World                875\n",
       "Movie                596\n",
       "Comedy               118\n",
       "Classical             52\n",
       "Soundtrack            23\n",
       "A Capella              8\n",
       "Name: genre, dtype: int64"
      ]
     },
     "execution_count": 61,
     "metadata": {},
     "output_type": "execute_result"
    }
   ],
   "source": [
    "data.loc[data['cluster'] == 0]['genre'].value_counts()\n"
   ]
  },
  {
   "cell_type": "code",
   "execution_count": 70,
   "metadata": {},
   "outputs": [
    {
     "data": {
      "text/plain": [
       "Opera               1984\n",
       "Movie               1208\n",
       "Blues               1046\n",
       "Folk                 989\n",
       "World                883\n",
       "Jazz                 825\n",
       "Soundtrack           815\n",
       "Soul                 806\n",
       "Classical            730\n",
       "Children's Music     729\n",
       "Indie                632\n",
       "Anime                579\n",
       "Country              540\n",
       "R&B                  519\n",
       "Alternative          488\n",
       "Children’s Music     454\n",
       "Rock                 418\n",
       "Pop                  358\n",
       "Electronic           276\n",
       "Dance                226\n",
       "Ska                  198\n",
       "Hip-Hop              184\n",
       "Rap                  178\n",
       "Reggae               121\n",
       "Reggaeton            118\n",
       "Comedy                98\n",
       "A Capella             29\n",
       "Name: genre, dtype: int64"
      ]
     },
     "execution_count": 70,
     "metadata": {},
     "output_type": "execute_result"
    }
   ],
   "source": [
    "data.loc[data['cluster'] == 1]['genre'].value_counts()"
   ]
  },
  {
   "cell_type": "code",
   "execution_count": 64,
   "metadata": {},
   "outputs": [
    {
     "data": {
      "text/plain": [
       "Ska                 4183\n",
       "Anime               2931\n",
       "World               2544\n",
       "Alternative         2494\n",
       "Children’s Music    2371\n",
       "Country             2256\n",
       "Rock                2154\n",
       "Blues               2140\n",
       "Electronic          1812\n",
       "Indie               1374\n",
       "Reggaeton           1206\n",
       "Folk                1177\n",
       "Dance               1160\n",
       "Reggae              1074\n",
       "Pop                 1058\n",
       "Rap                  942\n",
       "Hip-Hop              801\n",
       "R&B                  693\n",
       "Soul                 670\n",
       "Movie                601\n",
       "Children's Music     384\n",
       "Jazz                 336\n",
       "Classical            307\n",
       "Comedy                86\n",
       "Soundtrack            24\n",
       "A Capella              2\n",
       "Opera                  2\n",
       "Name: genre, dtype: int64"
      ]
     },
     "execution_count": 64,
     "metadata": {},
     "output_type": "execute_result"
    }
   ],
   "source": [
    "data.loc[data['cluster'] == 2]['genre'].value_counts()"
   ]
  },
  {
   "cell_type": "code",
   "execution_count": 65,
   "metadata": {},
   "outputs": [
    {
     "data": {
      "text/plain": [
       "Electronic          3240\n",
       "Jazz                2769\n",
       "Soundtrack          1331\n",
       "Anime               1310\n",
       "World               1052\n",
       "Blues                647\n",
       "Indie                577\n",
       "Folk                 490\n",
       "Children's Music     461\n",
       "Ska                  405\n",
       "Alternative          402\n",
       "Soul                 393\n",
       "Children’s Music     351\n",
       "Reggae               311\n",
       "Rock                 308\n",
       "Classical            278\n",
       "Dance                232\n",
       "R&B                  161\n",
       "Movie                131\n",
       "Opera                 68\n",
       "Pop                   68\n",
       "Hip-Hop               64\n",
       "Rap                   43\n",
       "Country               18\n",
       "Reggaeton             10\n",
       "Comedy                 5\n",
       "Name: genre, dtype: int64"
      ]
     },
     "execution_count": 65,
     "metadata": {},
     "output_type": "execute_result"
    }
   ],
   "source": [
    "data.loc[data['cluster'] == 3]['genre'].value_counts()"
   ]
  },
  {
   "cell_type": "code",
   "execution_count": 66,
   "metadata": {},
   "outputs": [
    {
     "data": {
      "text/plain": [
       "Comedy              9069\n",
       "Movie                391\n",
       "Children's Music     172\n",
       "Hip-Hop               38\n",
       "Opera                 32\n",
       "Rap                   23\n",
       "Blues                 21\n",
       "Jazz                  20\n",
       "Reggae                20\n",
       "Classical             18\n",
       "Electronic            17\n",
       "R&B                   17\n",
       "Ska                   17\n",
       "Soul                  12\n",
       "Alternative           11\n",
       "Children’s Music      11\n",
       "Reggaeton             10\n",
       "Folk                   5\n",
       "World                  4\n",
       "Pop                    3\n",
       "Indie                  3\n",
       "Country                2\n",
       "Soundtrack             2\n",
       "Rock                   1\n",
       "Dance                  1\n",
       "Name: genre, dtype: int64"
      ]
     },
     "execution_count": 66,
     "metadata": {},
     "output_type": "execute_result"
    }
   ],
   "source": [
    "data.loc[data['cluster'] == 4]['genre'].value_counts()"
   ]
  },
  {
   "cell_type": "code",
   "execution_count": 67,
   "metadata": {},
   "outputs": [
    {
     "data": {
      "text/plain": [
       "Soundtrack          6967\n",
       "Classical           6726\n",
       "Opera               3352\n",
       "Anime               1260\n",
       "World               1238\n",
       "Movie               1063\n",
       "Jazz                 764\n",
       "Children's Music     205\n",
       "Folk                 144\n",
       "Electronic            75\n",
       "Soul                  66\n",
       "Indie                 60\n",
       "Rock                  49\n",
       "Blues                 35\n",
       "Pop                   26\n",
       "A Capella             14\n",
       "Alternative           10\n",
       "Children’s Music       9\n",
       "R&B                    5\n",
       "Dance                  3\n",
       "Comedy                 2\n",
       "Rap                    1\n",
       "Name: genre, dtype: int64"
      ]
     },
     "execution_count": 67,
     "metadata": {},
     "output_type": "execute_result"
    }
   ],
   "source": [
    "data.loc[data['cluster'] == 5]['genre'].value_counts()"
   ]
  },
  {
   "cell_type": "code",
   "execution_count": 68,
   "metadata": {},
   "outputs": [
    {
     "data": {
      "text/plain": [
       "Movie               3386\n",
       "Folk                3067\n",
       "Opera               2842\n",
       "Children's Music    2197\n",
       "Jazz                2034\n",
       "Indie               1833\n",
       "World               1756\n",
       "Soul                1600\n",
       "Blues               1590\n",
       "Country             1333\n",
       "R&B                 1106\n",
       "Classical            990\n",
       "Rock                 815\n",
       "Children’s Music     697\n",
       "Alternative          666\n",
       "Pop                  626\n",
       "Anime                615\n",
       "Soundtrack           448\n",
       "Reggae               379\n",
       "Comedy               263\n",
       "Dance                244\n",
       "Electronic           211\n",
       "Ska                  198\n",
       "Rap                  173\n",
       "Hip-Hop              172\n",
       "Reggaeton            119\n",
       "A Capella             65\n",
       "Name: genre, dtype: int64"
      ]
     },
     "execution_count": 68,
     "metadata": {},
     "output_type": "execute_result"
    }
   ],
   "source": [
    "data.loc[data['cluster'] == 6]['genre'].value_counts()"
   ]
  },
  {
   "cell_type": "code",
   "execution_count": 69,
   "metadata": {},
   "outputs": [
    {
     "data": {
      "text/plain": [
       "Reggaeton           4158\n",
       "Hip-Hop             3935\n",
       "Rap                 3846\n",
       "R&B                 3604\n",
       "Reggae              3302\n",
       "Pop                 3272\n",
       "Dance               3190\n",
       "Soul                3002\n",
       "Children’s Music    2647\n",
       "Alternative         2577\n",
       "Electronic          2268\n",
       "Indie               2179\n",
       "Rock                1928\n",
       "Ska                 1558\n",
       "Jazz                1554\n",
       "Blues               1514\n",
       "Anime               1233\n",
       "Folk                1104\n",
       "Country              929\n",
       "World                744\n",
       "Movie                430\n",
       "Children's Music     256\n",
       "Classical            155\n",
       "Comedy                40\n",
       "Soundtrack            36\n",
       "A Capella              1\n",
       "Name: genre, dtype: int64"
      ]
     },
     "execution_count": 69,
     "metadata": {},
     "output_type": "execute_result"
    }
   ],
   "source": [
    "data.loc[data['cluster'] == 7]['genre'].value_counts()"
   ]
  },
  {
   "cell_type": "code",
   "execution_count": 76,
   "metadata": {},
   "outputs": [
    {
     "data": {
      "text/plain": [
       "Comedy              9681\n",
       "Soundtrack          9646\n",
       "Indie               9543\n",
       "Jazz                9441\n",
       "Pop                 9386\n",
       "Electronic          9377\n",
       "Children’s Music    9353\n",
       "Folk                9299\n",
       "Hip-Hop             9295\n",
       "Rock                9272\n",
       "Alternative         9263\n",
       "Classical           9256\n",
       "Rap                 9232\n",
       "World               9096\n",
       "Soul                9089\n",
       "Blues               9023\n",
       "R&B                 8992\n",
       "Anime               8936\n",
       "Reggaeton           8927\n",
       "Ska                 8874\n",
       "Reggae              8771\n",
       "Dance               8701\n",
       "Country             8664\n",
       "Opera               8280\n",
       "Movie               7806\n",
       "Children's Music    5403\n",
       "A Capella            119\n",
       "Name: genre, dtype: int64"
      ]
     },
     "execution_count": 76,
     "metadata": {},
     "output_type": "execute_result"
    }
   ],
   "source": [
    "data['genre'].value_counts()"
   ]
  },
  {
   "cell_type": "code",
   "execution_count": 77,
   "metadata": {
    "collapsed": true
   },
   "outputs": [],
   "source": [
    "#I nominate rap and classical for our 2 very different genres\n",
    "# For our similiar genres I choose classical and soundtrack"
   ]
  },
  {
   "cell_type": "code",
   "execution_count": 80,
   "metadata": {},
   "outputs": [
    {
     "data": {
      "text/plain": [
       "0    56506\n",
       "7    49462\n",
       "2    34782\n",
       "6    29425\n",
       "5    22074\n",
       "1    15431\n",
       "3    15125\n",
       "4     9920\n",
       "Name: cluster, dtype: int64"
      ]
     },
     "execution_count": 80,
     "metadata": {},
     "output_type": "execute_result"
    }
   ],
   "source": [
    "data['cluster'].value_counts()"
   ]
  },
  {
   "cell_type": "code",
   "execution_count": null,
   "metadata": {
    "collapsed": true
   },
   "outputs": [],
   "source": [
    "# The performance was worse 99% accuuracy for differnt genre's and 78% accuracy for similiar genres\n",
    "# this is expected"
   ]
  },
  {
   "cell_type": "code",
   "execution_count": null,
   "metadata": {
    "collapsed": true
   },
   "outputs": [],
   "source": [
    "#I would predcit kNN would struggle the most with this kind of classification because, the genres\n",
    "# have been marked as fairly similiar by the K-means algorithm"
   ]
  },
  {
   "cell_type": "code",
   "execution_count": 99,
   "metadata": {},
   "outputs": [],
   "source": [
    "# on distinct genres, the DT and RF performed equal. On similiar RF was better by about 10%\n"
   ]
  },
  {
   "cell_type": "code",
   "execution_count": null,
   "metadata": {
    "collapsed": true
   },
   "outputs": [],
   "source": []
  }
 ],
 "metadata": {
  "kernelspec": {
   "display_name": "Python 3",
   "language": "python",
   "name": "python3"
  },
  "language_info": {
   "codemirror_mode": {
    "name": "ipython",
    "version": 3
   },
   "file_extension": ".py",
   "mimetype": "text/x-python",
   "name": "python",
   "nbconvert_exporter": "python",
   "pygments_lexer": "ipython3",
   "version": "3.6.3"
  }
 },
 "nbformat": 4,
 "nbformat_minor": 2
}
